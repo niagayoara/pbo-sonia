{
  "nbformat": 4,
  "nbformat_minor": 0,
  "metadata": {
    "colab": {
      "provenance": []
    },
    "kernelspec": {
      "name": "python3",
      "display_name": "Python 3"
    },
    "language_info": {
      "name": "python"
    }
  },
  "cells": [
    {
      "cell_type": "code",
      "execution_count": 1,
      "metadata": {
        "colab": {
          "base_uri": "https://localhost:8080/"
        },
        "id": "mtMU47cFXbo3",
        "outputId": "7597c713-d38a-4014-e9af-d5996e5100ac"
      },
      "outputs": [
        {
          "output_type": "stream",
          "name": "stdout",
          "text": [
            "Perulangan ke-0\n",
            "Perulangan ke-1\n",
            "Perulangan ke-2\n",
            "Perulangan ke-3\n",
            "Perulangan ke-4\n",
            "Perulangan ke-5\n",
            "Perulangan ke-6\n",
            "Perulangan ke-7\n",
            "Perulangan ke-8\n",
            "Perulangan ke-9\n"
          ]
        }
      ],
      "source": [
        "#Contoh sederhana perulangan for\n",
        "# Deklarasi variabel contoh dan 10 itu sebagai tanda 10 kali perulangan\n",
        "contoh = 10\n",
        "\n",
        "# Variabel i berfungsi untuk menampung indeks,\n",
        "# dan fungsi range() berfungsi untuk membuat list dari 0-10.\n",
        "for i in range(contoh):\n",
        "    print (\"Perulangan ke-\" +str(i))"
      ]
    },
    {
      "cell_type": "code",
      "source": [],
      "metadata": {
        "id": "DvXqnVDmXsuc"
      },
      "execution_count": null,
      "outputs": []
    },
    {
      "cell_type": "code",
      "source": [
        "# Menampilkan range dari kumpulan deret tertentu\n",
        "# range(2,10) akan membuat deret angka mulai dari 2, 3, 4, 5, 6, 7, 8, dan 9.\n",
        "\n",
        "for i in range(2,10):\n",
        "  print(i)\n",
        ""
      ],
      "metadata": {
        "colab": {
          "base_uri": "https://localhost:8080/"
        },
        "id": "4xFPyvYpXw-D",
        "outputId": "99159c60-2ff9-43a0-8508-203ae8eea2ae"
      },
      "execution_count": 2,
      "outputs": [
        {
          "output_type": "stream",
          "name": "stdout",
          "text": [
            "2\n",
            "3\n",
            "4\n",
            "5\n",
            "6\n",
            "7\n",
            "8\n",
            "9\n"
          ]
        }
      ]
    },
    {
      "cell_type": "code",
      "source": [
        "#Contoh menampilkan isi dalam body perulangan\n",
        "# Deklarasi variabel contoh2 dengan tipe list\n",
        "contoh2 = ['saya','suka','minum','kopi', 'gayo']\n",
        "\n",
        "for isi in contoh2:\n",
        "    print (isi)"
      ],
      "metadata": {
        "colab": {
          "base_uri": "https://localhost:8080/"
        },
        "id": "KYE7kdJuX5oP",
        "outputId": "8fb3097d-0de5-4ca0-cc99-06f849cb7b7a"
      },
      "execution_count": 3,
      "outputs": [
        {
          "output_type": "stream",
          "name": "stdout",
          "text": [
            "saya\n",
            "suka\n",
            "minum\n",
            "kopi\n",
            "gayo\n"
          ]
        }
      ]
    },
    {
      "cell_type": "markdown",
      "source": [],
      "metadata": {
        "id": "bDLez5zoYAoQ"
      }
    },
    {
      "cell_type": "code",
      "source": [
        "#Contoh menggunakan while\n",
        "\n",
        "\n",
        "# Deklarasi variabel hit\n",
        "hit = 0\n",
        "# Membuat kondisi\n",
        "while (hit < 5):\n",
        "    print(hit, \"kurang dari 5\")\n",
        "    hit = hit + 1\n",
        "else:\n",
        "# Menampilkan output salam jika kondisi sudah terpenuhi\n",
        "    print(\"Salam\")"
      ],
      "metadata": {
        "colab": {
          "base_uri": "https://localhost:8080/"
        },
        "id": "skcwbVXmYMiE",
        "outputId": "12fe39da-11d5-4cba-9872-35d87d24a53b"
      },
      "execution_count": 5,
      "outputs": [
        {
          "output_type": "stream",
          "name": "stdout",
          "text": [
            "0 kurang dari 5\n",
            "1 kurang dari 5\n",
            "2 kurang dari 5\n",
            "3 kurang dari 5\n",
            "4 kurang dari 5\n",
            "Salam\n"
          ]
        }
      ]
    },
    {
      "cell_type": "code",
      "source": [
        "#Program Menghitung Harga Tiket Masuk\n",
        "# Program menghitung Faktor Persekutuan Terbesar4\n",
        "#\n",
        "\n",
        "# Membaca dua bilangan positif dari user\n",
        "n = int(input(\"Masukkan bilangan positif:\"))\n",
        "m = int(input(\"Masukkan bilangan positif:\"))\n",
        "\n",
        "# Inisialisasi variabel untuk nilai terkecil dari n dan m\n",
        "d = min(n, m)\n",
        "\n",
        "# Gunakan loop while untuk mencari FPT\n",
        "while n % d != 0 or m % d != 0:\n",
        "  d = d - 1\n",
        "\n",
        "# Menampilkan hasil\n",
        "print(\"Faktor persekutuan terbesar dari\", n, \"dan\", m, \" adalah\", d)\n"
      ],
      "metadata": {
        "colab": {
          "base_uri": "https://localhost:8080/"
        },
        "id": "takvb_5IYm4k",
        "outputId": "1c01bd3d-af94-4219-b83b-d9630d132c18"
      },
      "execution_count": 6,
      "outputs": [
        {
          "output_type": "stream",
          "name": "stdout",
          "text": [
            "Masukkan bilangan positif:4\n",
            "Masukkan bilangan positif:2\n",
            "Faktor persekutuan terbesar dari 4 dan 2  adalah 2\n"
          ]
        }
      ]
    },
    {
      "cell_type": "code",
      "source": [
        "#Program Mencari Nilai Maksimum dari 100 bilangan bulat\n",
        "# Menentukan nilai maksimum 100 bilangan bulat, menghitung berapa kali\n",
        "# perulangan\n",
        "\n",
        "from random import randrange\n",
        "\n",
        "BIL_ITEMS = 100\n",
        "\n",
        "# Generate the first number and menampilkan nya\n",
        "maks_nilai = randrange(1, BIL_ITEMS + 1)\n",
        "print(maks_nilai)\n",
        "\n",
        "# Menghitung berapa kali perubahan\n",
        "bil_update = 0\n",
        "\n",
        "# Untuk setiap bilangan\n",
        "for i in range(1, BIL_ITEMS):\n",
        "  # Generate bilangan acak\n",
        "  current = randrange(1, BIL_ITEMS + 1)\n",
        "\n",
        "  # Kondisi jika ditemukan bilangan terbesar\n",
        "  if current > maks_nilai:\n",
        "    # Update nilai maksimum dan hitung perubahan\n",
        "    maks_nilai = current\n",
        "    bil_update = bil_update + 1\n",
        "    # Tampilkan bilangan jika masih ada proses update\n",
        "    print(current, \"<== Update\")\n",
        "  else:\n",
        "    #Tampilkan bilangan\n",
        "    print(current)\n",
        "\n",
        "# Tampilkan Hasil Terakhir\n",
        "print(\" Nilai maksimum yang ditemukan adalah\", maks_nilai)\n",
        "print(\"Nilai maksimum yang di-update\", bil_update, \"kali\")\n",
        ""
      ],
      "metadata": {
        "colab": {
          "base_uri": "https://localhost:8080/"
        },
        "id": "agMzpg-hYz_A",
        "outputId": "34b9a730-3341-4507-882c-3199fe19bbe7"
      },
      "execution_count": 7,
      "outputs": [
        {
          "output_type": "stream",
          "name": "stdout",
          "text": [
            "74\n",
            "22\n",
            "99 <== Update\n",
            "51\n",
            "45\n",
            "47\n",
            "28\n",
            "49\n",
            "12\n",
            "83\n",
            "37\n",
            "48\n",
            "67\n",
            "42\n",
            "10\n",
            "9\n",
            "85\n",
            "100 <== Update\n",
            "58\n",
            "31\n",
            "83\n",
            "8\n",
            "36\n",
            "61\n",
            "37\n",
            "46\n",
            "37\n",
            "82\n",
            "71\n",
            "36\n",
            "13\n",
            "24\n",
            "35\n",
            "74\n",
            "75\n",
            "88\n",
            "82\n",
            "33\n",
            "10\n",
            "20\n",
            "66\n",
            "88\n",
            "69\n",
            "8\n",
            "75\n",
            "9\n",
            "26\n",
            "95\n",
            "100\n",
            "8\n",
            "46\n",
            "97\n",
            "37\n",
            "34\n",
            "90\n",
            "85\n",
            "100\n",
            "19\n",
            "18\n",
            "14\n",
            "69\n",
            "51\n",
            "57\n",
            "30\n",
            "95\n",
            "27\n",
            "22\n",
            "71\n",
            "30\n",
            "89\n",
            "21\n",
            "90\n",
            "100\n",
            "100\n",
            "21\n",
            "44\n",
            "26\n",
            "67\n",
            "7\n",
            "21\n",
            "23\n",
            "4\n",
            "92\n",
            "82\n",
            "45\n",
            "25\n",
            "29\n",
            "96\n",
            "55\n",
            "65\n",
            "45\n",
            "88\n",
            "60\n",
            "14\n",
            "78\n",
            "91\n",
            "60\n",
            "74\n",
            "52\n",
            "15\n",
            " Nilai maksimum yang ditemukan adalah 100\n",
            "Nilai maksimum yang di-update 2 kali\n"
          ]
        }
      ]
    }
  ]
}