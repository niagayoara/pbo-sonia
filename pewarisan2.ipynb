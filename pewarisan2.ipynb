{
  "nbformat": 4,
  "nbformat_minor": 0,
  "metadata": {
    "colab": {
      "provenance": [],
      "authorship_tag": "ABX9TyMZzzbcrYKoDRlUVWXppZ+n",
      "include_colab_link": true
    },
    "kernelspec": {
      "name": "python3",
      "display_name": "Python 3"
    },
    "language_info": {
      "name": "python"
    }
  },
  "cells": [
    {
      "cell_type": "markdown",
      "metadata": {
        "id": "view-in-github",
        "colab_type": "text"
      },
      "source": [
        "<a href=\"https://colab.research.google.com/github/niagayoara/pbo-sonia/blob/main/pewarisan2.ipynb\" target=\"_parent\"><img src=\"https://colab.research.google.com/assets/colab-badge.svg\" alt=\"Open In Colab\"/></a>"
      ]
    },
    {
      "cell_type": "code",
      "execution_count": 1,
      "metadata": {
        "colab": {
          "base_uri": "https://localhost:8080/"
        },
        "id": "NRKs6QALo2zw",
        "outputId": "03208348-70de-4312-c1b0-59c10dade0cd"
      },
      "outputs": [
        {
          "output_type": "stream",
          "name": "stdout",
          "text": [
            "{'brand': 'ASUS', 'model': 'ZenBook', 'year': 2022, 'ram': '16GB', 'storage': '512GB SSD'}\n",
            "{'brand': 'Samsung', 'model': 'Galaxy S21', 'year': 2021, 'camera_mp': 108}\n",
            "Gadget is powering on...\n",
            "Gadget is powering on...\n"
          ]
        }
      ],
      "source": [
        "# Class induk\n",
        "class Gadget:\n",
        "    def __init__(self, brand, model, year):\n",
        "        self.brand = brand\n",
        "        self.model = model\n",
        "        self.year = year\n",
        "\n",
        "    def power_on(self):\n",
        "        print(\"Gadget is powering on...\")\n",
        "\n",
        "    def power_off(self):\n",
        "        print(\"Gadget is shutting down...\")\n",
        "\n",
        "# Subclass Laptop\n",
        "class Laptop(Gadget):\n",
        "    def __init__(self, brand, model, year, ram, storage):\n",
        "        super().__init__(brand, model, year)\n",
        "        self.ram = ram\n",
        "        self.storage = storage\n",
        "\n",
        "# Subclass Smartphone\n",
        "class Smartphone(Gadget):\n",
        "    def __init__(self, brand, model, year, camera_mp):\n",
        "        super().__init__(brand, model, year)\n",
        "        self.camera_mp = camera_mp\n",
        "\n",
        "# Membuat objek\n",
        "laptop = Laptop(\"ASUS\", \"ZenBook\", 2022, \"16GB\", \"512GB SSD\")\n",
        "smartphone = Smartphone(\"Samsung\", \"Galaxy S21\", 2021, 108)\n",
        "\n",
        "# Menampilkan atribut dan memanggil method\n",
        "print(laptop.__dict__)\n",
        "print(smartphone.__dict__)\n",
        "laptop.power_on()\n",
        "smartphone.power_on()\n"
      ]
    }
  ]
}