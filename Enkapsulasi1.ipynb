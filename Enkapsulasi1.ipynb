{
  "nbformat": 4,
  "nbformat_minor": 0,
  "metadata": {
    "colab": {
      "provenance": [],
      "authorship_tag": "ABX9TyN/0RqeaLQwhNqLD4nbj+6a",
      "include_colab_link": true
    },
    "kernelspec": {
      "name": "python3",
      "display_name": "Python 3"
    },
    "language_info": {
      "name": "python"
    }
  },
  "cells": [
    {
      "cell_type": "markdown",
      "metadata": {
        "id": "view-in-github",
        "colab_type": "text"
      },
      "source": [
        "<a href=\"https://colab.research.google.com/github/niagayoara/pbo-sonia/blob/main/Enkapsulasi1.ipynb\" target=\"_parent\"><img src=\"https://colab.research.google.com/assets/colab-badge.svg\" alt=\"Open In Colab\"/></a>"
      ]
    },
    {
      "cell_type": "code",
      "source": [
        "class Pegawai:\n",
        "    def __init__(self, nama, salary):\n",
        "        self.__nama = nama\n",
        "        self.__gaji = salary\n",
        "        self.__gaji_final = self.__gaji - (0.2 * self.__gaji)\n",
        "\n",
        "    def showGajiFinal(self):\n",
        "        return self.__gaji_final\n",
        "\n",
        "    def setGaji(self, gaji_baru):\n",
        "        self.__gaji = gaji_baru\n",
        "        self.__gaji_final = self.__gaji - (0.2 * self.__gaji)\n",
        "\n",
        "    def getGaji(self):\n",
        "        return self.__gaji\n",
        "\n",
        "agus = Pegawai(\"Agus\", 1000)\n",
        "print(agus.showGajiFinal())\n",
        "\n",
        "print(agus.getGaji())\n",
        "\n",
        "agus.gaji_final = 5000\n",
        "print(f\"Gaji final = {agus.gaji_final}\")\n",
        "\n",
        "print(f\"Gaji final sebenarnya = {agus.showGajiFinal()}\")\n"
      ],
      "metadata": {
        "colab": {
          "base_uri": "https://localhost:8080/"
        },
        "id": "EetZY93SQur0",
        "outputId": "ddf6e470-edde-46e9-939a-a1ab7d079c67"
      },
      "execution_count": null,
      "outputs": [
        {
          "output_type": "stream",
          "name": "stdout",
          "text": [
            "800.0\n",
            "1000\n",
            "Gaji final = 5000\n",
            "Gaji final sebenarnya = 800.0\n"
          ]
        }
      ]
    },
    {
      "cell_type": "markdown",
      "source": [],
      "metadata": {
        "id": "ddqyWVjTQub3"
      }
    },
    {
      "cell_type": "markdown",
      "source": [
        "enkapsulasi lebih simple"
      ],
      "metadata": {
        "id": "_kQprsJ9Szx0"
      }
    },
    {
      "cell_type": "code",
      "source": [
        "class Pegawai:\n",
        "    def __init__(self, nama, salary):\n",
        "        self.__nama = nama\n",
        "        self.__gaji = salary\n",
        "\n",
        "    @property\n",
        "    def gaji_final(self):\n",
        "        return self.__gaji - (0.2 * self.__gaji)\n",
        "\n",
        "    def setGaji(self, gaji_baru):\n",
        "        self.__gaji = gaji_baru\n",
        "\n",
        "# Pemakaian\n",
        "agus = Pegawai(\"Agus\", 1000)\n",
        "print(agus.gaji_final)      # 800.0\n",
        "\n",
        "agus.setGaji(2000)\n",
        "print(agus.gaji_final)      # 1600.0\n"
      ],
      "metadata": {
        "colab": {
          "base_uri": "https://localhost:8080/"
        },
        "id": "CqkIOsXnS4wD",
        "outputId": "daf7b9cf-2b6f-499b-9da5-fb5619870177"
      },
      "execution_count": null,
      "outputs": [
        {
          "output_type": "stream",
          "name": "stdout",
          "text": [
            "800.0\n",
            "1600.0\n"
          ]
        }
      ]
    }
  ]
}